{
 "cells": [
  {
   "cell_type": "code",
   "execution_count": null,
   "id": "400fcb71-2533-4bb5-a16a-2e12c3ddcdcb",
   "metadata": {},
   "outputs": [],
   "source": [
    "import pandas as pd\n",
    "import re\n",
    "from fuzzywuzzy import fuzz\n",
    "\n",
    "# Load the dataset\n",
    "data = pd.read_csv(\"C:\\\\Users\\\\HP\\\\OneDrive\\\\Desktop\\\\Book1.csv\", encoding='ISO-8859-1')  # Replace with your file path\n",
    "\n",
    "# Trim whitespace from column names\n",
    "data.columns = data.columns.str.strip()\n",
    "\n",
    "# Optionally, trim whitespace from specific columns (if needed)\n",
    "data['NIBSS FullName'] = data['NIBSS FullName'].str.strip()\n",
    "data['ACCT_NAME'] = data['ACCT_NAME'].str.strip()\n",
    "\n"
   ]
  },
  {
   "cell_type": "code",
   "execution_count": null,
   "id": "f4f608dc-e6bf-4d65-81d0-514d136843f0",
   "metadata": {},
   "outputs": [],
   "source": [
    "# Function to clean up names by removing unwanted punctuation and special characters\n",
    "def clean_name(name):\n",
    "    cleaned_name = re.sub(r'[^a-zA-Z0-9\\s.-]', '', name)  # Allow alphanumeric characters, spaces, hyphens, and periods\n",
    "    return cleaned_name.strip()\n",
    "\n",
    "\n"
   ]
  },
  {
   "cell_type": "code",
   "execution_count": null,
   "id": "76296ef1-f2a8-477c-b0a1-8178004616e1",
   "metadata": {},
   "outputs": [],
   "source": [
    "# Function to classify names based on user-defined rules\n",
    "def classify_name(nibss_name, acct_name):\n",
    "    # Clean the names\n",
    "    cleaned_nibss_name = clean_name(nibss_name)\n",
    "    cleaned_acct_name = clean_name(acct_name)\n",
    "\n",
    "    # Convert both names to lowercase for case-insensitive comparison\n",
    "    normalized_nibss_name = cleaned_nibss_name.lower().replace('-', ' ')\n",
    "    normalized_acct_name = cleaned_acct_name.lower().replace('-', ' ')\n",
    "\n",
    "    # Split normalized names into words for comparison\n",
    "    nibss_words = set(normalized_nibss_name.split())\n",
    "    acct_words = set(normalized_acct_name.split())\n",
    "\n",
    "    # Rule 5: Check for presence of business-like terms in any name\n",
    "    business_terms = [\n",
    "        \"church\", \"enterprise\", \"company\", \"lodge\", \"family\", \"society\", \"foundation\", \"youth\", \n",
    "        \"services\", \"visa\", \"prepaid\", \"fbn\", \"est.\", \"est.\" , \"limited\" , \"ltd\" , \"client\" , \"clients\" , \"admin\", \"union\", \"club\", \"cathedral\", \n",
    "        \"port harcourt\", \"ministries\", \"assemblies\", \"league\", \"first bank\", \"hospital\", \"age grade\", \n",
    "        \"local govt\", \"local government\", \"lga account\", \"anglican\", \"zone\", \"investment\", \n",
    "        \"institute\", \"family\", \"nipost\", \"ass\", \"association\", \"school\" , \"Nig\" , \"Technology\", \"Technologies\" , \"Nigeria\"\n",
    "    ]\n",
    "\n",
    "    if any(term in nibss_words or term in acct_words for term in business_terms):\n",
    "        return \"Business\"\n",
    "\n",
    "    # Rule 3: Misarrangement - check if names are the same but ordered differently\n",
    "    token_sort_ratio = fuzz.token_sort_ratio(normalized_nibss_name, normalized_acct_name)\n",
    "    if token_sort_ratio == 100:\n",
    "        return \"Misarrangement\"\n",
    "    \n",
    "    # Rule 1: Spelling - check similarity based on Levenshtein ratio\n",
    "    token_set_ratio = fuzz.token_set_ratio(normalized_nibss_name, normalized_acct_name)\n",
    "    if token_set_ratio >= 60 and token_set_ratio < 100:\n",
    "        return \"Spelling\"\n",
    "    \n",
    "    # Rule 2: Somewhat - check if at least one word matches\n",
    "    if nibss_words.intersection(acct_words):\n",
    "        return \"Somewhat\"\n",
    "    \n",
    "    # Rule 4: X - no correlation\n",
    "    return \"X\"\n"
   ]
  },
  {
   "cell_type": "code",
   "execution_count": null,
   "id": "9ebcd182-05e2-4177-b19f-3545b75a024a",
   "metadata": {},
   "outputs": [],
   "source": [
    "# Apply the function to the dataset and save results\n",
    "data['Classification'] = data.apply(lambda row: classify_name(row['NIBSS FullName'], row['ACCT_NAME']), axis=1)\n"
   ]
  },
  {
   "cell_type": "code",
   "execution_count": null,
   "id": "07fe7a2b-869f-4080-98e3-27d5194c6889",
   "metadata": {},
   "outputs": [],
   "source": [
    "# Save the resulting dataset with classifications\n",
    "data.to_csv('C:\\\\Users\\\\HP\\\\OneDrive\\\\Desktop\\\\output_file4.csv', index=False)  # Replace with your desired output file path\n"
   ]
  },
  {
   "cell_type": "code",
   "execution_count": null,
   "id": "1cfa9a06-3dbf-4072-bdb5-ad8b537058b0",
   "metadata": {},
   "outputs": [],
   "source": []
  }
 ],
 "metadata": {
  "kernelspec": {
   "display_name": "Python 3 (ipykernel)",
   "language": "python",
   "name": "python3"
  },
  "language_info": {
   "codemirror_mode": {
    "name": "ipython",
    "version": 3
   },
   "file_extension": ".py",
   "mimetype": "text/x-python",
   "name": "python",
   "nbconvert_exporter": "python",
   "pygments_lexer": "ipython3",
   "version": "3.11.7"
  }
 },
 "nbformat": 4,
 "nbformat_minor": 5
}
